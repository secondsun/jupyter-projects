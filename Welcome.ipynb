{
 "cells": [
  {
   "cell_type": "markdown",
   "metadata": {},
   "source": [
    "<h1 style=\"font-size:42px; text-align:center; margin-bottom:30px;\"> Welcome To My Data Science Portfolio! </span></h1>\n",
    " \n",
    "Thanks for stopping by! This website hosts my data science portfolio projects in a format that is hopefully a little more friendly to the non-techincal audience compared to the traditional Github repo. The goal of my porfolio here is to showcase both the foundational skills of data manipulation and visualization as well as more advanced skills of both supervised and unsupervised machine learning projects. I find data science and machine learning to be really exciting topics and I hope to convey that passion to you in the pages you'll find here! There are projects covering finance, ecommerce, real estate, entertainment and more. Part of what gets me so excited is the sheer breadth of applications data science can be applied to. In presenting my projects I've strived to make them accessible to a general audience and walk you through my process. I've also paid attention to the less technical, but no less crucial skills of storytelling when appropriate. I hope you find your time here both informative and enjoyable!"
   ]
  },
  {
   "cell_type": "code",
   "execution_count": null,
   "metadata": {},
   "outputs": [],
   "source": []
  }
 ],
 "metadata": {
  "kernelspec": {
   "display_name": "Python 3",
   "language": "python",
   "name": "python3"
  },
  "language_info": {
   "codemirror_mode": {
    "name": "ipython",
    "version": 3
   },
   "file_extension": ".py",
   "mimetype": "text/x-python",
   "name": "python",
   "nbconvert_exporter": "python",
   "pygments_lexer": "ipython3",
   "version": "3.6.4"
  }
 },
 "nbformat": 4,
 "nbformat_minor": 2
}
